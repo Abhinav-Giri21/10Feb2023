{
 "cells": [
  {
   "cell_type": "code",
   "execution_count": null,
   "id": "23506027-ef27-4403-9a08-aab2a24b37d3",
   "metadata": {},
   "outputs": [],
   "source": [
    "'''Q1.Which function is used to open a file? What are the different modes of opening a file? Explain each mode\n",
    "of file opening.\n",
    "\n",
    "Ans.'open()' function is used in python to open a file.\n",
    "    \n",
    "Different modes of opening a file are-\n",
    "\n",
    "Read Only(‘r’):Open text file for reading. The handle is positioned at the beginning of the file. If the file does not exists, raises the I/O                         error. This is also the default mode in which a file is opened.\n",
    "Read and Write(‘r+’):Open the file for reading and writing. The handle is positioned at the beginning of the file. Raises I/O error if the file does                       not exist.\n",
    "Write Only(‘w’):Open the file for writing. For the existing files, the data is truncated and over-written. The handle is positioned at the beginning                   of the file. Creates the file if the file does not exist.\n",
    "Write and Read (‘w+’):Open the file for reading and writing. For an existing file, data is truncated and over-written. The handle is positioned at the                       beginning of the file.\n",
    "Append Only(‘a’):Open the file for writing. The file is created if it does not exist. The handle is positioned at the end of the file. The data being                  written will be inserted at the end, after the existing data.\n",
    "Append and Read(‘a+’):Open the file for reading and writing. The file is created if it does not exist. The handle is positioned at the end of the                           file.The data being written will be inserted at the end, after the existing data.'''"
   ]
  },
  {
   "cell_type": "code",
   "execution_count": null,
   "id": "fee72463-6e18-4feb-9cd6-b894ed74690c",
   "metadata": {},
   "outputs": [],
   "source": [
    "'''Q2.Why close() function is used? Why is it important to close a file?\n",
    "\n",
    "Ans.The close() method closes an open file.The file should always be closed because,in some cases,due to buffering,changes made to a file may not show       until you close the file.'''"
   ]
  },
  {
   "cell_type": "code",
   "execution_count": 1,
   "id": "a9b585c3-5713-42c0-a3f0-51725ca8187b",
   "metadata": {},
   "outputs": [
    {
     "name": "stdout",
     "output_type": "stream",
     "text": [
      "I want to become a Data Scientist\n"
     ]
    }
   ],
   "source": [
    "'''Q3. Write a python program to create a text file. Write ‘I want to become a Data Scientist’ in that file. Then\n",
    "close the file. Open this file and read the content of the file.'''\n",
    "\n",
    "f=open('data.txt','w')\n",
    "f.write('I want to become a Data Scientist')\n",
    "f.close()\n",
    "f=open('data.txt','r')\n",
    "print(f.read())\n",
    "f.close()"
   ]
  },
  {
   "cell_type": "code",
   "execution_count": null,
   "id": "1f533bd1-82e7-4d72-a84d-82f720cf2545",
   "metadata": {},
   "outputs": [],
   "source": [
    "'''Q4.Explain the following with python code: read(), readline() and readlines().\n",
    "\n",
    "Ans.read():The read() method is used to read the entire contents of a file. It returns a string that contains all the data in the file.\n",
    "    \n",
    "    readline():The readline() method is used to read a single line from a file. Each time this method is called, it reads the next line of the file.\n",
    "    \n",
    "    readlines(): The readlines() method is used to read all the lines of a file into a list. Each element of the list corresponds to a single line of the file.'''\n",
    "\n",
    "f=open('data.txt','r')\n",
    "print(f.read())\n",
    "f.close()\n",
    "\n",
    "f=open('data.txt','r')\n",
    "print(f.readline())\n",
    "f.close()\n",
    "\n",
    "f=open('data.txt','r')\n",
    "print(f.readlines())\n",
    "f.close()"
   ]
  },
  {
   "cell_type": "code",
   "execution_count": null,
   "id": "4a120959-d528-4709-9d95-e64a5445d629",
   "metadata": {},
   "outputs": [],
   "source": [
    "'''Q5.Explain why with statement is used with open(). What is the advantage of using with statement and\n",
    "open() together?\n",
    "\n",
    "Ans.When used with the open() function,the with statement provides a clean and easy way to open and read files.\n",
    "    \n",
    "    Advantage-\n",
    "    The with statement is used to wrap the execution of a block of code with methods defined by a context manager. It ensures that a clean-up or           release of resources is always performed, even if an error occurs.'''"
   ]
  },
  {
   "cell_type": "code",
   "execution_count": null,
   "id": "01e7de15-4ee6-43ff-abaf-5dd27abe5d04",
   "metadata": {},
   "outputs": [],
   "source": [
    "'''Q6.Explain the write() and writelines() functions. Give a suitable example.\n",
    "\n",
    "Ans.write():The write() function is used to write a single string to a file. It returns the number of characters written to the file.\n",
    "    \n",
    "    writelines():The writelines() function is used to write a list of strings to a file. Each string in the list is written as a separate line to the     file.\n",
    "    \n",
    "f=open('data.txt','w')\n",
    "f.write('hello world!')\n",
    "f.close()\n",
    "\n",
    "f=open('data.txt','w')\n",
    "l=['a','b','c','d']\n",
    "f.writelines(l)\n",
    "f.close()'''\n"
   ]
  }
 ],
 "metadata": {
  "kernelspec": {
   "display_name": "Python 3 (ipykernel)",
   "language": "python",
   "name": "python3"
  },
  "language_info": {
   "codemirror_mode": {
    "name": "ipython",
    "version": 3
   },
   "file_extension": ".py",
   "mimetype": "text/x-python",
   "name": "python",
   "nbconvert_exporter": "python",
   "pygments_lexer": "ipython3",
   "version": "3.10.8"
  }
 },
 "nbformat": 4,
 "nbformat_minor": 5
}
